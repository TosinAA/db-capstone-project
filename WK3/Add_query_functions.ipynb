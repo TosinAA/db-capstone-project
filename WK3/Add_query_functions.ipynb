{
 "cells": [
  {
   "cell_type": "markdown",
   "metadata": {},
   "source": [
    "### Task 1:\n",
    "\n",
    "#### Create A Database Connection Using The MySQL-Connector-Python"
   ]
  },
  {
   "cell_type": "code",
   "execution_count": 29,
   "metadata": {},
   "outputs": [
    {
     "name": "stdout",
     "output_type": "stream",
     "text": [
      "Connection to the database has been established!!\n"
     ]
    }
   ],
   "source": [
    "import mysql.connector as connector\n",
    "\n",
    "uname=input('Please enter the database instance username... ')\n",
    "pword=input('Please enter the database instance matching password... ')\n",
    "\n",
    "conn = connector.connect(user=uname, password=pword, host='127.0.0.1')\n",
    "\n",
    "if conn.is_connected():\n",
    "    print('Connection to the database has been established!!')"
   ]
  },
  {
   "cell_type": "markdown",
   "metadata": {},
   "source": [
    "### Creating the cursor object"
   ]
  },
  {
   "cell_type": "code",
   "execution_count": 30,
   "metadata": {},
   "outputs": [],
   "source": [
    "# Creating the cursor object\n",
    "\n",
    "cursor = conn.cursor()"
   ]
  },
  {
   "cell_type": "markdown",
   "metadata": {},
   "source": [
    "### Showing The Databases"
   ]
  },
  {
   "cell_type": "code",
   "execution_count": 31,
   "metadata": {},
   "outputs": [
    {
     "name": "stdout",
     "output_type": "stream",
     "text": [
      "('billingdb',)\n",
      "('coffee_shop_products',)\n",
      "('global_superstore_dwh_snowflake schema',)\n",
      "('global_superstore_dwh_star',)\n",
      "('information_schema',)\n",
      "('little_lemon_db',)\n",
      "('littlelemondb',)\n",
      "('littlelemondm',)\n",
      "('mangata_gallo',)\n",
      "('mg_schema',)\n",
      "('mysql',)\n",
      "('mysql_learner',)\n",
      "('performance_schema',)\n",
      "('pwpdatasets',)\n",
      "('sakila',)\n",
      "('sys',)\n",
      "('testdb',)\n",
      "('testdb2',)\n",
      "('testdb3',)\n",
      "('world',)\n"
     ]
    }
   ],
   "source": [
    "# Showing the database list\n",
    "\n",
    "show_db_query = \"SHOW DATABASES;\" \n",
    "cursor.execute(show_db_query)\n",
    "results = cursor.fetchall()\n",
    "for result in results:\n",
    "    print(result)"
   ]
  },
  {
   "cell_type": "markdown",
   "metadata": {},
   "source": [
    "### Task2:\n",
    "\n",
    "#### Showing The Tables In The littlelemondm Database"
   ]
  },
  {
   "cell_type": "code",
   "execution_count": 32,
   "metadata": {},
   "outputs": [],
   "source": [
    "# Use the littlelemondm database\n",
    "\n",
    "use_db_query = \"USE littlelemondm;\" \n",
    "cursor.execute(use_db_query)"
   ]
  },
  {
   "cell_type": "code",
   "execution_count": 33,
   "metadata": {},
   "outputs": [
    {
     "name": "stdout",
     "output_type": "stream",
     "text": [
      "('customer',)\n",
      "('delivery_status',)\n",
      "('department',)\n",
      "('menu',)\n",
      "('menuitems',)\n",
      "('orders',)\n",
      "('ordersview',)\n",
      "('position',)\n",
      "('staff',)\n"
     ]
    }
   ],
   "source": [
    "# Show the tables in littlelemondm\n",
    "\n",
    "show_tables_query = \"\"\"SHOW TABLES;\"\"\" \n",
    "cursor.execute(show_tables_query)\n",
    "results = cursor.fetchall()\n",
    "for result in results:\n",
    "    print(result)"
   ]
  },
  {
   "cell_type": "markdown",
   "metadata": {},
   "source": [
    "### Task 3:\n",
    "\n",
    "#### Querying Table Joins"
   ]
  },
  {
   "cell_type": "code",
   "execution_count": 35,
   "metadata": {},
   "outputs": [
    {
     "name": "stdout",
     "output_type": "stream",
     "text": [
      "('Full_Name', 'phone', 'email', 'Total_Cost')\n"
     ]
    }
   ],
   "source": [
    "# Query with table JOIN\n",
    "\n",
    "query_tbl_join = \"\"\"\n",
    "SELECT CONCAT(c.first_name, ' ', c.last_name) AS Full_Name,\n",
    " c.phone, c.email, o.Total_Cost\n",
    "FROM Orders AS o\n",
    "INNER JOIN customer AS c\n",
    "ON o.customer_id=c.customer_id\n",
    "WHERE o.Total_Cost > 60;\n",
    "\"\"\"\n",
    "cursor.execute(query_tbl_join)\n",
    "results = cursor.fetchall()\n",
    "print(cursor.column_names)\n",
    "for result in results:\n",
    "    print(result)\n"
   ]
  }
 ],
 "metadata": {
  "kernelspec": {
   "display_name": "base",
   "language": "python",
   "name": "python3"
  },
  "language_info": {
   "codemirror_mode": {
    "name": "ipython",
    "version": 3
   },
   "file_extension": ".py",
   "mimetype": "text/x-python",
   "name": "python",
   "nbconvert_exporter": "python",
   "pygments_lexer": "ipython3",
   "version": "3.9.13"
  },
  "orig_nbformat": 4
 },
 "nbformat": 4,
 "nbformat_minor": 2
}
