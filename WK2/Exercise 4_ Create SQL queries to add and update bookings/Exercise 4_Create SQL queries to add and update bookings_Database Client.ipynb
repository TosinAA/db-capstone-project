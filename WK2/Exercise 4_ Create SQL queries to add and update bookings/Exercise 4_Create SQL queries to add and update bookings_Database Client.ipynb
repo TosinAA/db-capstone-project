{
 "cells": [
  {
   "cell_type": "code",
   "execution_count": 1,
   "metadata": {},
   "outputs": [
    {
     "name": "stdout",
     "output_type": "stream",
     "text": [
      "Connection has been established to the MySQL Database:  <mysql.connector.connection_cext.CMySQLConnection object at 0x000001F474F09BE0>\n"
     ]
    }
   ],
   "source": [
    "# Importing the libraries and connecting to the MySQL Database\n",
    "\n",
    "import mysql.connector as connector\n",
    "from mysql.connector.errors import Error as er\n",
    "\n",
    "# Applying the error handler to the connection creation process\n",
    "try:\n",
    "    uname = input('Please enter your username here:...')\n",
    "    pword = input('Please enter your password here:...')\n",
    "    conn = connector.connect(user=uname, password=pword, host='127.0.0.1', database='littlelemondb')\n",
    "    \n",
    "    if conn.is_connected():\n",
    "        print('Connection has been established to the MySQL Database: ', conn)\n",
    "    else:\n",
    "        print('Error connecting to the MySQL Database!!')\n",
    "except er:\n",
    "    print('Error!!!, Description ', er)"
   ]
  },
  {
   "cell_type": "code",
   "execution_count": 2,
   "metadata": {},
   "outputs": [],
   "source": [
    "# Creating the cursor object\n",
    "\n",
    "cursor = conn.cursor()"
   ]
  },
  {
   "cell_type": "markdown",
   "metadata": {},
   "source": [
    "### Task 1: AddBooking Stored Procedure"
   ]
  },
  {
   "cell_type": "code",
   "execution_count": 33,
   "metadata": {},
   "outputs": [],
   "source": [
    "addbooking=\"\"\"\n",
    "CREATE PROCEDURE AddBooking(IN Booking_ID INT, IN customer_ID INT, IN Booking_Date DATE, IN Table_Number INT)\n",
    "BEGIN\n",
    "\t-- checks if a customer has been assigned the table number input and responds with a message.\n",
    "\tIF customer_ID = (SELECT CustomerID FROM bookings WHERE (BookingID = Booking_ID AND TableNumber = Table_Number)) THEN\n",
    "\t\tSELECT CONCAT('Sorry, the TableNumber ', Table_Number, ' is already reserved for another customer!') As Message;\n",
    "\tELSE\n",
    "\t\tINSERT INTO Bookings (BookingID, CustomerID, BookingDate, TableNumber)\n",
    "\t\tVALUES(Booking_ID, Customer_ID, Booking_Date, Table_Number);\n",
    "\t\tCOMMIT;\n",
    "\tEND IF;\n",
    "END;\n",
    "\"\"\"\n",
    "cursor.execute(addbooking)"
   ]
  },
  {
   "cell_type": "code",
   "execution_count": 38,
   "metadata": {},
   "outputs": [
    {
     "data": {
      "text/plain": [
       "[]"
      ]
     },
     "execution_count": 38,
     "metadata": {},
     "output_type": "execute_result"
    }
   ],
   "source": [
    "args = [99, 99, \"2022-12-10\", 99]\n",
    "cursor.callproc(\"\"\"AddBooking\"\"\", args)\n",
    "cursor.fetchall()"
   ]
  },
  {
   "cell_type": "markdown",
   "metadata": {},
   "source": [
    "### Task2: UpdateBooking Stored Procedure"
   ]
  },
  {
   "cell_type": "code",
   "execution_count": 34,
   "metadata": {},
   "outputs": [],
   "source": [
    "updatebooking=\"\"\"\n",
    "CREATE PROCEDURE UpdateBooking(IN booking_id INT, IN booking_date DATE)\n",
    "BEGIN\n",
    "\tSTART TRANSACTION;\n",
    "\tUPDATE Bookings SET BookingDate = booking_date WHERE BookingID = booking_id;\n",
    "\tCOMMIT;\t\n",
    "END;\n",
    "\"\"\"\n",
    "cursor.execute(updatebooking)"
   ]
  },
  {
   "cell_type": "code",
   "execution_count": 39,
   "metadata": {},
   "outputs": [
    {
     "data": {
      "text/plain": [
       "[]"
      ]
     },
     "execution_count": 39,
     "metadata": {},
     "output_type": "execute_result"
    }
   ],
   "source": [
    "args = [99, \"2022-1-10\"]\n",
    "cursor.callproc(\"\"\"UpdateBooking\"\"\", args)\n",
    "cursor.fetchall()"
   ]
  },
  {
   "cell_type": "markdown",
   "metadata": {},
   "source": [
    "### Task3: CancelBooking Stored Procedure"
   ]
  },
  {
   "cell_type": "code",
   "execution_count": 43,
   "metadata": {},
   "outputs": [],
   "source": [
    "cancelbooking=\"\"\"\n",
    "CREATE PROCEDURE CancelBooking(IN table_number INT)\n",
    "BEGIN\n",
    "\tSTART TRANSACTION;\n",
    "\tDELETE FROM Bookings WHERE TableNumber = table_number;\n",
    "\tCOMMIT;\n",
    "END;\n",
    "\"\"\"\n",
    "cursor.execute(cancelbooking)"
   ]
  },
  {
   "cell_type": "code",
   "execution_count": 45,
   "metadata": {},
   "outputs": [
    {
     "data": {
      "text/plain": [
       "[]"
      ]
     },
     "execution_count": 45,
     "metadata": {},
     "output_type": "execute_result"
    }
   ],
   "source": [
    "args = [99]\n",
    "cursor.callproc(\"\"\"CancelBooking\"\"\", args)\n",
    "cursor.fetchall()"
   ]
  },
  {
   "cell_type": "code",
   "execution_count": 46,
   "metadata": {},
   "outputs": [],
   "source": [
    "cursor.close()\n",
    "conn.close()"
   ]
  },
  {
   "cell_type": "code",
   "execution_count": null,
   "metadata": {},
   "outputs": [],
   "source": []
  }
 ],
 "metadata": {
  "kernelspec": {
   "display_name": "base",
   "language": "python",
   "name": "python3"
  },
  "language_info": {
   "codemirror_mode": {
    "name": "ipython",
    "version": 3
   },
   "file_extension": ".py",
   "mimetype": "text/x-python",
   "name": "python",
   "nbconvert_exporter": "python",
   "pygments_lexer": "ipython3",
   "version": "3.9.13"
  },
  "orig_nbformat": 4
 },
 "nbformat": 4,
 "nbformat_minor": 2
}
